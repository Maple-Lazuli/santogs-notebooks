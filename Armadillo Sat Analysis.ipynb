{
 "cells": [
  {
   "cell_type": "markdown",
   "id": "3fbc3bba",
   "metadata": {},
   "source": [
    "# Imports and Data Download"
   ]
  },
  {
   "cell_type": "code",
   "execution_count": 8,
   "id": "49278149",
   "metadata": {},
   "outputs": [
    {
     "data": {
      "text/html": [
       "<style>.container { width:90% !important; }</style>"
      ],
      "text/plain": [
       "<IPython.core.display.HTML object>"
      ]
     },
     "metadata": {},
     "output_type": "display_data"
    }
   ],
   "source": [
    "from IPython.display import display, HTML\n",
    "display(HTML(\"<style>.container { width:90% !important; }</style>\"))"
   ]
  },
  {
   "cell_type": "code",
   "execution_count": 9,
   "id": "466ebd24",
   "metadata": {},
   "outputs": [],
   "source": [
    "import satnogs_webscraper as sw"
   ]
  },
  {
   "cell_type": "code",
   "execution_count": 10,
   "id": "2f4dcf80",
   "metadata": {},
   "outputs": [],
   "source": [
    "scraper = sw.Scraper(norad = \"44352\",data = 1, save_name = \"Armadillo\", list_page_limit = 20)"
   ]
  },
  {
   "cell_type": "code",
   "execution_count": 11,
   "id": "4b06b7b4",
   "metadata": {},
   "outputs": [
    {
     "name": "stdout",
     "output_type": "stream",
     "text": [
      "List Storage Dir: ./satnogs-data/observation_pages/Armadillo\n",
      "Scraping List Pages...\n",
      "[########################################] | 100% Completed | 18.5s\n",
      "Wrote ./satnogs-data/Armadillo.json to disk\n",
      "Scraping Observation Pages...\n",
      "[########################################] | 100% Completed |  0.2s\n"
     ]
    }
   ],
   "source": [
    "df = scraper.scrape()"
   ]
  },
  {
   "cell_type": "code",
   "execution_count": 12,
   "id": "43860263",
   "metadata": {},
   "outputs": [
    {
     "data": {
      "text/html": [
       "<div>\n",
       "<style scoped>\n",
       "    .dataframe tbody tr th:only-of-type {\n",
       "        vertical-align: middle;\n",
       "    }\n",
       "\n",
       "    .dataframe tbody tr th {\n",
       "        vertical-align: top;\n",
       "    }\n",
       "\n",
       "    .dataframe thead th {\n",
       "        text-align: right;\n",
       "    }\n",
       "</style>\n",
       "<table border=\"1\" class=\"dataframe\">\n",
       "  <thead>\n",
       "    <tr style=\"text-align: right;\">\n",
       "      <th></th>\n",
       "      <th>Observation_id</th>\n",
       "      <th>Satellite</th>\n",
       "      <th>Station</th>\n",
       "      <th>Status</th>\n",
       "      <th>Status_Message</th>\n",
       "      <th>Transmitter</th>\n",
       "      <th>Frequency</th>\n",
       "      <th>Mode</th>\n",
       "      <th>Metadata</th>\n",
       "      <th>Downloads</th>\n",
       "      <th>Waterfall_Status</th>\n",
       "      <th>Polar_Plot</th>\n",
       "      <th>demods</th>\n",
       "    </tr>\n",
       "  </thead>\n",
       "  <tbody>\n",
       "    <tr>\n",
       "      <th>0</th>\n",
       "      <td>5434736</td>\n",
       "      <td>44352  - ARMADILLO</td>\n",
       "      <td>1093 - LU1KCQ Home</td>\n",
       "      <td>Good</td>\n",
       "      <td>100</td>\n",
       "      <td>Mode U GFSK19k2</td>\n",
       "      <td>437,522,700Hz</td>\n",
       "      <td>[GFSK, 19200]</td>\n",
       "      <td>{\"radio\": {\"name\": \"gr-satnogs\", \"version\": \"2...</td>\n",
       "      <td>{'audio': 'https://archive.org/download/satnog...</td>\n",
       "      <td>Unknown</td>\n",
       "      <td>{'tle1': '1 44352U 19036P   22039.41504615  .0...</td>\n",
       "      <td>[{'original_name': 'data_obs/2022/2/9/7/543473...</td>\n",
       "    </tr>\n",
       "    <tr>\n",
       "      <th>1</th>\n",
       "      <td>5434730</td>\n",
       "      <td>44352  - ARMADILLO</td>\n",
       "      <td>1089 - ZR6AIC Ground Station</td>\n",
       "      <td>Good</td>\n",
       "      <td>100</td>\n",
       "      <td>Mode U GFSK19k2</td>\n",
       "      <td>437,522,700Hz</td>\n",
       "      <td>[GFSK, 19200]</td>\n",
       "      <td>{\"radio\": {\"name\": \"gr-satnogs\", \"version\": \"v...</td>\n",
       "      <td>{'audio': 'https://archive.org/download/satnog...</td>\n",
       "      <td>Unknown</td>\n",
       "      <td>{'tle1': '1 44352U 19036P   22039.41504615  .0...</td>\n",
       "      <td>[{'original_name': 'data_obs/2022/2/9/4/543473...</td>\n",
       "    </tr>\n",
       "    <tr>\n",
       "      <th>2</th>\n",
       "      <td>5434725</td>\n",
       "      <td>44352  - ARMADILLO</td>\n",
       "      <td>462 - Universidad UTE</td>\n",
       "      <td>Good</td>\n",
       "      <td>100</td>\n",
       "      <td>Mode U GFSK19k2</td>\n",
       "      <td>437,522,700Hz</td>\n",
       "      <td>[GFSK, 19200]</td>\n",
       "      <td>{\"latitude\": -0.183, \"elevation\": 2850.0, \"rad...</td>\n",
       "      <td>{'audio': 'https://archive.org/download/satnog...</td>\n",
       "      <td>Unknown</td>\n",
       "      <td>{'tle1': '1 44352U 19036P   22039.41504615  .0...</td>\n",
       "      <td>[{'original_name': 'data_obs/2022/2/9/3/543472...</td>\n",
       "    </tr>\n",
       "    <tr>\n",
       "      <th>3</th>\n",
       "      <td>5434728</td>\n",
       "      <td>44352  - ARMADILLO</td>\n",
       "      <td>1089 - ZR6AIC Ground Station</td>\n",
       "      <td>Good</td>\n",
       "      <td>100</td>\n",
       "      <td>Mode U GFSK19k2</td>\n",
       "      <td>437,522,700Hz</td>\n",
       "      <td>[GFSK, 19200]</td>\n",
       "      <td>{\"radio\": {\"name\": \"gr-satnogs\", \"version\": \"v...</td>\n",
       "      <td>{'audio': 'https://archive.org/download/satnog...</td>\n",
       "      <td>Unknown</td>\n",
       "      <td>{'tle1': '1 44352U 19036P   22039.41504615  .0...</td>\n",
       "      <td>[{'original_name': 'data_obs/2022/2/9/0/543472...</td>\n",
       "    </tr>\n",
       "    <tr>\n",
       "      <th>4</th>\n",
       "      <td>5434724</td>\n",
       "      <td>44352  - ARMADILLO</td>\n",
       "      <td>462 - Universidad UTE</td>\n",
       "      <td>Good</td>\n",
       "      <td>100</td>\n",
       "      <td>Mode U GFSK19k2</td>\n",
       "      <td>437,522,700Hz</td>\n",
       "      <td>[GFSK, 19200]</td>\n",
       "      <td>{\"latitude\": -0.183, \"elevation\": 2850.0, \"rad...</td>\n",
       "      <td>{'audio': 'https://archive.org/download/satnog...</td>\n",
       "      <td>Unknown</td>\n",
       "      <td>{'tle1': '1 44352U 19036P   22038.89596048  .0...</td>\n",
       "      <td>[{'original_name': 'data_obs/2022/2/8/16/54347...</td>\n",
       "    </tr>\n",
       "  </tbody>\n",
       "</table>\n",
       "</div>"
      ],
      "text/plain": [
       "  Observation_id           Satellite                       Station Status  \\\n",
       "0        5434736  44352  - ARMADILLO            1093 - LU1KCQ Home   Good   \n",
       "1        5434730  44352  - ARMADILLO  1089 - ZR6AIC Ground Station   Good   \n",
       "2        5434725  44352  - ARMADILLO         462 - Universidad UTE   Good   \n",
       "3        5434728  44352  - ARMADILLO  1089 - ZR6AIC Ground Station   Good   \n",
       "4        5434724  44352  - ARMADILLO         462 - Universidad UTE   Good   \n",
       "\n",
       "  Status_Message      Transmitter      Frequency           Mode  \\\n",
       "0            100  Mode U GFSK19k2  437,522,700Hz  [GFSK, 19200]   \n",
       "1            100  Mode U GFSK19k2  437,522,700Hz  [GFSK, 19200]   \n",
       "2            100  Mode U GFSK19k2  437,522,700Hz  [GFSK, 19200]   \n",
       "3            100  Mode U GFSK19k2  437,522,700Hz  [GFSK, 19200]   \n",
       "4            100  Mode U GFSK19k2  437,522,700Hz  [GFSK, 19200]   \n",
       "\n",
       "                                            Metadata  \\\n",
       "0  {\"radio\": {\"name\": \"gr-satnogs\", \"version\": \"2...   \n",
       "1  {\"radio\": {\"name\": \"gr-satnogs\", \"version\": \"v...   \n",
       "2  {\"latitude\": -0.183, \"elevation\": 2850.0, \"rad...   \n",
       "3  {\"radio\": {\"name\": \"gr-satnogs\", \"version\": \"v...   \n",
       "4  {\"latitude\": -0.183, \"elevation\": 2850.0, \"rad...   \n",
       "\n",
       "                                           Downloads Waterfall_Status  \\\n",
       "0  {'audio': 'https://archive.org/download/satnog...          Unknown   \n",
       "1  {'audio': 'https://archive.org/download/satnog...          Unknown   \n",
       "2  {'audio': 'https://archive.org/download/satnog...          Unknown   \n",
       "3  {'audio': 'https://archive.org/download/satnog...          Unknown   \n",
       "4  {'audio': 'https://archive.org/download/satnog...          Unknown   \n",
       "\n",
       "                                          Polar_Plot  \\\n",
       "0  {'tle1': '1 44352U 19036P   22039.41504615  .0...   \n",
       "1  {'tle1': '1 44352U 19036P   22039.41504615  .0...   \n",
       "2  {'tle1': '1 44352U 19036P   22039.41504615  .0...   \n",
       "3  {'tle1': '1 44352U 19036P   22039.41504615  .0...   \n",
       "4  {'tle1': '1 44352U 19036P   22038.89596048  .0...   \n",
       "\n",
       "                                              demods  \n",
       "0  [{'original_name': 'data_obs/2022/2/9/7/543473...  \n",
       "1  [{'original_name': 'data_obs/2022/2/9/4/543473...  \n",
       "2  [{'original_name': 'data_obs/2022/2/9/3/543472...  \n",
       "3  [{'original_name': 'data_obs/2022/2/9/0/543472...  \n",
       "4  [{'original_name': 'data_obs/2022/2/8/16/54347...  "
      ]
     },
     "execution_count": 12,
     "metadata": {},
     "output_type": "execute_result"
    }
   ],
   "source": [
    "df.head()"
   ]
  },
  {
   "cell_type": "code",
   "execution_count": 13,
   "id": "6bf28337",
   "metadata": {},
   "outputs": [
    {
     "data": {
      "text/plain": [
       "[{'original_name': 'data_obs/2022/2/9/7/5434736/data_5434736_2022-02-09T07-14-50',\n",
       "  'location': '/home/maple-power/CodeProjects/satnogs-notebooks/satnogs-data/observations/demods/3f8cc0c71b483b49e8743230f88a9541a129498f9cf51fe27514ce61ca4192fb.bin'},\n",
       " {'original_name': 'data_obs/2022/2/9/7/5434736/data_5434736_2022-02-09T07-15-35',\n",
       "  'location': '/home/maple-power/CodeProjects/satnogs-notebooks/satnogs-data/observations/demods/01cf6718c5a98454f8f464b88515730bb123c960128b17cffa6ad391f98c5f95.bin'},\n",
       " {'original_name': 'data_obs/2022/2/9/7/5434736/data_5434736_2022-02-09T07-15-50',\n",
       "  'location': '/home/maple-power/CodeProjects/satnogs-notebooks/satnogs-data/observations/demods/ac3fc8576114f8556d12b002b87559d29977f08b19384951057436cef7c58ca4.bin'}]"
      ]
     },
     "execution_count": 13,
     "metadata": {},
     "output_type": "execute_result"
    }
   ],
   "source": [
    "df['demods'][0]"
   ]
  },
  {
   "cell_type": "markdown",
   "id": "e7d1a67b",
   "metadata": {},
   "source": [
    "# Loading Kaitai Struct"
   ]
  },
  {
   "cell_type": "code",
   "execution_count": 26,
   "id": "7036a316",
   "metadata": {},
   "outputs": [],
   "source": [
    "!kaitai-struct-compiler -t python armadillo.ksy"
   ]
  },
  {
   "cell_type": "code",
   "execution_count": 33,
   "id": "3663f9e0",
   "metadata": {},
   "outputs": [],
   "source": [
    "from kaitaistruct import KaitaiStream, BytesIO\n",
    "from armadillo import Armadillo"
   ]
  },
  {
   "cell_type": "code",
   "execution_count": 34,
   "id": "16f0d580",
   "metadata": {},
   "outputs": [
    {
     "data": {
      "text/plain": [
       "'/home/maple-power/CodeProjects/satnogs-notebooks/satnogs-data/observations/demods/3f8cc0c71b483b49e8743230f88a9541a129498f9cf51fe27514ce61ca4192fb.bin'"
      ]
     },
     "execution_count": 34,
     "metadata": {},
     "output_type": "execute_result"
    }
   ],
   "source": [
    "bin_file = df['demods'][0][0]['location']\n",
    "bin_file"
   ]
  },
  {
   "cell_type": "code",
   "execution_count": 38,
   "id": "a1f8c914",
   "metadata": {},
   "outputs": [],
   "source": [
    "with open(bin_file, 'rb') as file_in:\n",
    "    kaitai_stream = KaitaiStream(BytesIO(file_in.read()))\n",
    "parsed_data = Armadillo(kaitai_stream)"
   ]
  },
  {
   "cell_type": "code",
   "execution_count": 45,
   "id": "38a1a808",
   "metadata": {},
   "outputs": [
    {
     "name": "stdout",
     "output_type": "stream",
     "text": [
      "_io <kaitaistruct.KaitaiStream object at 0x7f4f309bc1f0>\n",
      "_parent None\n",
      "_root <armadillo.Armadillo object at 0x7f4f309bc610>\n",
      "ax25_frame <armadillo.Armadillo.Ax25Frame object at 0x7f4f31df31f0>\n"
     ]
    }
   ],
   "source": [
    "for attr, value in parsed_data.__dict__.items():\n",
    "        print(attr, value)"
   ]
  },
  {
   "cell_type": "code",
   "execution_count": 48,
   "id": "0d84ce1b",
   "metadata": {},
   "outputs": [
    {
     "data": {
      "text/plain": [
       "240"
      ]
     },
     "execution_count": 48,
     "metadata": {},
     "output_type": "execute_result"
    }
   ],
   "source": [
    "parsed_data.ax25_frame.payload.pid"
   ]
  },
  {
   "cell_type": "code",
   "execution_count": 49,
   "id": "b0cd7b53",
   "metadata": {},
   "outputs": [
    {
     "name": "stdout",
     "output_type": "stream",
     "text": [
      "_io <kaitaistruct.KaitaiStream object at 0x7f4f309bc1f0>\n",
      "_parent <armadillo.Armadillo object at 0x7f4f309bc610>\n",
      "_root <armadillo.Armadillo object at 0x7f4f309bc610>\n",
      "ax25_header <armadillo.Armadillo.Ax25Header object at 0x7f4f31df3040>\n",
      "payload <armadillo.Armadillo.UiFrame object at 0x7f4f31df3c70>\n"
     ]
    }
   ],
   "source": [
    "for attr, value in parsed_data.ax25_frame.__dict__.items():\n",
    "        print(attr, value)"
   ]
  },
  {
   "cell_type": "code",
   "execution_count": 50,
   "id": "36a96079",
   "metadata": {},
   "outputs": [
    {
     "name": "stdout",
     "output_type": "stream",
     "text": [
      "_io <kaitaistruct.KaitaiStream object at 0x7f4f309bc1f0>\n",
      "_parent <armadillo.Armadillo.Ax25Frame object at 0x7f4f31df31f0>\n",
      "_root <armadillo.Armadillo object at 0x7f4f309bc610>\n",
      "dest_callsign_raw <armadillo.Armadillo.CallsignRaw object at 0x7f4f31df3340>\n",
      "dest_ssid_raw <armadillo.Armadillo.SsidMask object at 0x7f4f31df3070>\n",
      "src_callsign_raw <armadillo.Armadillo.CallsignRaw object at 0x7f4f31df3250>\n",
      "src_ssid_raw <armadillo.Armadillo.SsidMask object at 0x7f4f31df3be0>\n",
      "ctl 3\n"
     ]
    }
   ],
   "source": [
    "for attr, value in parsed_data.ax25_frame.ax25_header.__dict__.items():\n",
    "        print(attr, value)"
   ]
  },
  {
   "cell_type": "code",
   "execution_count": 54,
   "id": "96179aa9",
   "metadata": {},
   "outputs": [
    {
     "name": "stdout",
     "output_type": "stream",
     "text": [
      "_io <kaitaistruct.KaitaiStream object at 0x7f4f309bc1f0>\n",
      "_parent <armadillo.Armadillo.Ax25Frame object at 0x7f4f31df31f0>\n",
      "_root <armadillo.Armadillo object at 0x7f4f309bc610>\n",
      "dest_callsign_raw <armadillo.Armadillo.CallsignRaw object at 0x7f4f31df3340>\n",
      "dest_ssid_raw <armadillo.Armadillo.SsidMask object at 0x7f4f31df3070>\n",
      "src_callsign_raw <armadillo.Armadillo.CallsignRaw object at 0x7f4f31df3250>\n",
      "src_ssid_raw <armadillo.Armadillo.SsidMask object at 0x7f4f31df3be0>\n",
      "ctl 3\n"
     ]
    }
   ],
   "source": [
    "for attr, value in parsed_data.ax25_frame.ax25_header.__dict__.items():\n",
    "        print(attr, value)"
   ]
  },
  {
   "cell_type": "code",
   "execution_count": 51,
   "id": "9892c9f3",
   "metadata": {},
   "outputs": [
    {
     "name": "stdout",
     "output_type": "stream",
     "text": [
      "_io <kaitaistruct.KaitaiStream object at 0x7f4f309bc1f0>\n",
      "_parent <armadillo.Armadillo.Ax25Frame object at 0x7f4f31df31f0>\n",
      "_root <armadillo.Armadillo object at 0x7f4f309bc610>\n",
      "pid 240\n",
      "data_payload <armadillo.Armadillo.ArmadilloPayload object at 0x7f4f31df39a0>\n"
     ]
    }
   ],
   "source": [
    "for attr, value in parsed_data.ax25_frame.payload.__dict__.items():\n",
    "        print(attr, value)"
   ]
  },
  {
   "cell_type": "code",
   "execution_count": 53,
   "id": "8b2d25e5",
   "metadata": {},
   "outputs": [
    {
     "name": "stdout",
     "output_type": "stream",
     "text": [
      "_io : <kaitaistruct.KaitaiStream object at 0x7f4f309bc1f0>\n",
      "_parent : <armadillo.Armadillo.UiFrame object at 0x7f4f31df3c70>\n",
      "_root : <armadillo.Armadillo object at 0x7f4f309bc610>\n",
      "pb_magic : b'\\x08\\x17\\x12\\xfb\\x01'\n",
      "time_since_epoch : 1025075686\n",
      "uptime : 78487\n",
      "avail_nvmem : 14610432\n",
      "pos_x : 1773.8482666015625\n",
      "pos_y : -6153.85986328125\n",
      "pos_z : -2786.487548828125\n",
      "vel_x : 6.1822052001953125\n",
      "vel_y : 2.71439528465271\n",
      "vel_z : -1.9396892786026\n",
      "pwr_states_reserved : 0\n",
      "gps_power : False\n",
      "adc_power : False\n",
      "antenna_power : False\n",
      "pdd_power : False\n",
      "spacecraft_mode : False\n",
      "vbatt : 16469\n",
      "input_current : 7\n",
      "output_current : 46\n",
      "boot_count : 508\n",
      "boot_cause : 1\n",
      "eps_temp_1 : 8\n",
      "eps_temp_2 : 11\n",
      "eps_temp_3 : 9\n",
      "eps_temp_4 : 10\n",
      "eps_bp4a : 9\n",
      "eps_bp4b : 10\n",
      "eps_output_1_current : 2\n",
      "eps_output_2_current : 6\n",
      "eps_output_3_current : 6\n",
      "eps_output_4_current : 2\n",
      "eps_output_5_current : 9\n",
      "eps_output_6_current : 4\n",
      "rxwl_temp_x : 0.0\n",
      "rxwl_temp_y : 0.0\n",
      "rxwl_temp_z : 0.0\n",
      "gyro_temp_x : 0.0\n",
      "gyro_temp_y : 0.0\n",
      "gyro_temp_z : 0.0\n",
      "desired_quaternion_a : 0.0\n",
      "desired_quaternion_b : 0.0\n",
      "desired_quaternion_c : 0.0\n",
      "desired_quaternion_d : 0.0\n",
      "estimated_quaternion_a : 0.0\n",
      "estimated_quaternion_b : 0.0\n",
      "estimated_quaternion_c : 0.0\n",
      "estimated_quaternion_d : 0.0\n",
      "rotation_rate_x : 0.0\n",
      "rotation_rate_y : 0.0\n",
      "rotation_rate_z : 0.0\n",
      "sun_sensor_address : 0\n",
      "message : Ohmygodohmygodohmygod! I'm in space!\n"
     ]
    }
   ],
   "source": [
    "for attr, value in parsed_data.ax25_frame.payload.data_payload.__dict__.items():\n",
    "        print(attr,\":\", value)"
   ]
  },
  {
   "cell_type": "code",
   "execution_count": null,
   "id": "b6ac151b",
   "metadata": {},
   "outputs": [],
   "source": []
  }
 ],
 "metadata": {
  "kernelspec": {
   "display_name": "Python 3 (ipykernel)",
   "language": "python",
   "name": "python3"
  },
  "language_info": {
   "codemirror_mode": {
    "name": "ipython",
    "version": 3
   },
   "file_extension": ".py",
   "mimetype": "text/x-python",
   "name": "python",
   "nbconvert_exporter": "python",
   "pygments_lexer": "ipython3",
   "version": "3.9.7"
  }
 },
 "nbformat": 4,
 "nbformat_minor": 5
}
